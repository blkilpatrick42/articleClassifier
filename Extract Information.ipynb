{
 "cells": [
  {
   "cell_type": "code",
   "execution_count": 14,
   "metadata": {
    "collapsed": true
   },
   "outputs": [],
   "source": [
    "import nltk\n",
    "\n",
    "cnn_dataset = open('./Datasets/cnn_dataset', 'r').read()\n",
    "bbc_dataset = open('./Datasets/bbc_dataset', 'r').read()\n",
    "nyt_dataset = open('./Datasets/nytimes_dataset', 'r').read()\n",
    "\n",
    "cnn_docs = cnn_dataset.split('\\n')\n",
    "\n",
    "# Sentence Tokenize\n",
    "def process_text(dataset):\n",
    "    processed_docs = []\n",
    "    for doc in dataset:\n",
    "        sentences = nltk.sent_tokenize(doc)\n",
    "        sentences = [nltk.word_tokenize(sent) for sent in sentences]\n",
    "        sentences = [nltk.pos_tag(sent) for sent in sentences]\n",
    "        processed_docs.append(sentences)\n",
    "    return processed_docs\n",
    "\n",
    "cnn_pdocs = process_text(cnn_docs)\n",
    "#cnn_pdocs[1]\n",
    "grammar = \"NP: {<DT>?<JJ>*<NN>}\"\n",
    "cp = nltk.RegexpParser(grammar)\n",
    "result = cp.parse(cnn_pdocs[1][0])\n",
    "result\n",
    "result.draw()"
   ]
  }
 ],
 "metadata": {
  "kernelspec": {
   "display_name": "Python 3",
   "language": "python",
   "name": "python3"
  },
  "language_info": {
   "codemirror_mode": {
    "name": "ipython",
    "version": 3
   },
   "file_extension": ".py",
   "mimetype": "text/x-python",
   "name": "python",
   "nbconvert_exporter": "python",
   "pygments_lexer": "ipython3",
   "version": "3.6.1"
  }
 },
 "nbformat": 4,
 "nbformat_minor": 2
}
