{
 "cells": [
  {
   "cell_type": "code",
   "execution_count": 8,
   "metadata": {
    "collapsed": true
   },
   "outputs": [],
   "source": [
    "# -*- coding: utf-8 -*-\n",
    "\n",
    "import nltk\n",
    "from nltk.corpus import stopwords\n",
    "\n",
    "cnn_dataset = open('./Datasets/cnn_dataset', 'r', encoding='utf-8').read()\n",
    "bbc_dataset = open('./Datasets/bbc_dataset', 'r', encoding='utf-8').read()\n",
    "nyt_dataset = open('./Datasets/nytimes_dataset', 'r', encoding='utf-8').read()\n",
    "fox_dataset = open('./Datasets/fox_dataset', 'r', encoding='utf-8').read()\n",
    "alj_dataset = open('./Datasets/aljDataset', 'r', encoding='utf-8').read()\n",
    "\n",
    "def clean_data(dataset, filename):\n",
    "    stopwords = nltk.corpus.stopwords.words('english')\n",
    "    stopwords += [\"cnn\", \"bbc\", \"nytimes\", \"fox\", \n",
    "                  \"(cnn)\", \"cnntips\", \"cnni\", \"cnn.com\", \"cnn/u.s\", \"cnnmoney\", \"cnnopinion\",\n",
    "                 \"bbcnewsents\", \"bbc.co.uk\", \"tostadobbc\", \"bbcmundo\", \"tusfotosbbc\", \"bbcarabic.com\",\n",
    "                 \"©2017\", \"20\", \":\", \",\", \".\", \"-\", \"_\", \"-\", \"__\", \"____\", \"_____\", \"______\", \"_______\", \"________\", \n",
    "                  \"``\", \"''\", \"'\", '\"', \"updated\", \"et\", \")\", \"(\", \"--\", \"@\", \"'s\", \"jazeera\", \"al\", \"[\", \"]\",\n",
    "                 \";\", \">\", \"<\", \"pageloadedsuccessfully\", \"brightcove.createexperiences\", \"rendergeneralbcvideo\",\n",
    "                 \"'vdocontainer\", \"articleguid\", \"{\", \"}\", \"renderpagesvideo\", \"&\", \"cdata\", \"!\", \"'100\",\n",
    "                 \"473\", \"//\"]\n",
    "    \n",
    "    stopsents = [\"This material may not be published, broadcast, rewritten, or redistributed.\", \n",
    "                 \"FOX News Network, LLC. All rights reserved. All market data delayed 20 minutes.\",\n",
    "                 \"Chat with us in Facebook Messenger. Find out what's happening in the world as it unfolds.\",\n",
    "                \"Full Bio\", ]\n",
    "    \n",
    "    dataset = dataset.split('\\n')\n",
    "    with open('./Datasets/' + filename, 'w', encoding='utf-8') as f:\n",
    "        for line in dataset:\n",
    "            #line = nltk.sent_tokenize(line.lower())\n",
    "            #line = [s for s in line if s.strip() not in stopsents]\n",
    "            #line = ' '.join(line)\n",
    "            #line = line.lower()\n",
    "            for sent in stopsents:\n",
    "                line = line.replace(sent, '')\n",
    "            line = nltk.word_tokenize(line.lower())\n",
    "            clean_line = [w for w in line if w.strip() not in stopwords]\n",
    "            clean_line = ' '.join(clean_line)\n",
    "            f.write(clean_line + '\\n')\n",
    "            f.flush()\n",
    "    f.close()\n",
    "\n",
    "    \n",
    "datasets = {\n",
    "    \"clean_cnn_dataset\":cnn_dataset, \n",
    "    \"clean_bbc_dataset\":bbc_dataset, \n",
    "    \"clean_nyt_dataset\":nyt_dataset, \n",
    "    \"clean_fox_dataset\":fox_dataset,\n",
    "    \"clean_alj_dataset\":alj_dataset,\n",
    "}\n",
    "\n",
    "for filename, dataset in datasets.items():\n",
    "    clean_data(dataset, filename)            "
   ]
  }
 ],
 "metadata": {
  "kernelspec": {
   "display_name": "Python 3",
   "language": "python",
   "name": "python3"
  },
  "language_info": {
   "codemirror_mode": {
    "name": "ipython",
    "version": 3
   },
   "file_extension": ".py",
   "mimetype": "text/x-python",
   "name": "python",
   "nbconvert_exporter": "python",
   "pygments_lexer": "ipython3",
   "version": "3.6.1"
  }
 },
 "nbformat": 4,
 "nbformat_minor": 2
}
