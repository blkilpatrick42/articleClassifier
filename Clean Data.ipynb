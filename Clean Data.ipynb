{
 "cells": [
  {
   "cell_type": "code",
   "execution_count": 2,
   "metadata": {},
   "outputs": [],
   "source": [
    "import nltk\n",
    "from nltk.corpus import stopwords\n",
    "\n",
    "cnn_dataset = open('./Datasets/cnn_dataset', 'r').read()\n",
    "bbc_dataset = open('./Datasets/bbc_dataset', 'r').read()\n",
    "nyt_dataset = open('./Datasets/nytimes_dataset', 'r').read()\n",
    "fox_dataset = open('./Datasets/fox_dataset', 'r').read()\n",
    "#alj_dataset = open('./Datasets/aljDataset', 'r').read()\n",
    "\n",
    "def clean_data(dataset, filename):\n",
    "    stopwords = nltk.corpus.stopwords.words('english')\n",
    "    dataset = dataset.split('\\n')\n",
    "    with open('./Datasets/' + filename, 'w') as f:\n",
    "        for line in dataset:\n",
    "            line = line.split()\n",
    "            clean_line = [w.lower() for w in line if w.lower() not in stopwords]\n",
    "            clean_line = ' '.join(clean_line)\n",
    "            f.write(clean_line + '\\n')\n",
    "            f.flush()\n",
    "    f.close()\n",
    "\n",
    "    \n",
    "datasets = {\n",
    "    \"clean_cnn_dataset\":cnn_dataset, \n",
    "    \"clean_bbc_dataset\":bbc_dataset, \n",
    "    \"clean_nyt_dataset\":nyt_dataset, \n",
    "    \"clean_fox_dataset\":fox_dataset,\n",
    "}\n",
    "\n",
    "for filename, dataset in datasets.items():\n",
    "    clean_data(dataset, filename)            "
   ]
  }
 ],
 "metadata": {
  "kernelspec": {
   "display_name": "Python 3",
   "language": "python",
   "name": "python3"
  },
  "language_info": {
   "codemirror_mode": {
    "name": "ipython",
    "version": 3
   },
   "file_extension": ".py",
   "mimetype": "text/x-python",
   "name": "python",
   "nbconvert_exporter": "python",
   "pygments_lexer": "ipython3",
   "version": "3.6.1"
  }
 },
 "nbformat": 4,
 "nbformat_minor": 2
}
